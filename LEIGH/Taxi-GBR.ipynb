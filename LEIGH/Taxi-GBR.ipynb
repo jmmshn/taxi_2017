{
 "cells": [
  {
   "cell_type": "code",
   "execution_count": 49,
   "metadata": {
    "collapsed": true
   },
   "outputs": [],
   "source": [
    "import pandas as pd\n",
    "import numpy as np\n",
    "from sklearn.model_selection import train_test_split, cross_val_score, GridSearchCV\n",
    "from sklearn.metrics import mean_squared_error\n",
    "from sklearn.ensemble import GradientBoostingRegressor"
   ]
  },
  {
   "cell_type": "markdown",
   "metadata": {},
   "source": [
    "### Gradient Boosted Regression on Taxi data (features from Zhen)"
   ]
  },
  {
   "cell_type": "code",
   "execution_count": 18,
   "metadata": {},
   "outputs": [
    {
     "data": {
      "text/plain": [
       "Index(['Unnamed: 0', 'vendor_id', 'passenger_count', 'pickup_longitude',\n",
       "       'pickup_latitude', 'dropoff_longitude', 'dropoff_latitude',\n",
       "       'store_and_fwd_flag', 'Manhattan distance (miles)', 'pickup_hour_min',\n",
       "       'pickup_hour', 'pickup_month', 'pickup_day', 'pickup_weekday',\n",
       "       'pickup_area_0', 'dropoff_area_0', 'pickup_area_1', 'dropoff_area_1',\n",
       "       'pickup_area_2', 'dropoff_area_2', 'pickup_area_3', 'dropoff_area_3',\n",
       "       'pickup_area_4', 'dropoff_area_4', 'pickup_area_5', 'dropoff_area_5',\n",
       "       'pickup_area_6', 'dropoff_area_6', 'pickup_area_7', 'dropoff_area_7',\n",
       "       'pickup_area_8', 'dropoff_area_8', 'pickup_area_9', 'dropoff_area_9',\n",
       "       'pickup_area_10', 'dropoff_area_10', 'pickup_area_11',\n",
       "       'dropoff_area_11', 'pickup_area_12', 'dropoff_area_12',\n",
       "       'pickup_area_13', 'dropoff_area_13', 'pickup_area_14',\n",
       "       'dropoff_area_14', 'trip_duration'],\n",
       "      dtype='object')"
      ]
     },
     "execution_count": 18,
     "metadata": {},
     "output_type": "execute_result"
    }
   ],
   "source": [
    "df = pd.read_csv('partial_train_10000.csv')\n",
    "df.columns"
   ]
  },
  {
   "cell_type": "markdown",
   "metadata": {},
   "source": [
    "First do fitting using default parameters for thegradient boosted regressor"
   ]
  },
  {
   "cell_type": "markdown",
   "metadata": {},
   "source": [
    "### Train test split"
   ]
  },
  {
   "cell_type": "code",
   "execution_count": 19,
   "metadata": {
    "collapsed": true
   },
   "outputs": [],
   "source": [
    "X = df.iloc[:, 1:-1].as_matrix()\n",
    "y = df['trip_duration']\n",
    "\n",
    "X_train, X_test, y_train, y_test = train_test_split(X, y)"
   ]
  },
  {
   "cell_type": "code",
   "execution_count": 30,
   "metadata": {
    "collapsed": true
   },
   "outputs": [],
   "source": [
    "GBR = GradientBoostingRegressor()\n",
    "GBR_tts = GBR.fit(X_train, y_train)"
   ]
  },
  {
   "cell_type": "code",
   "execution_count": 31,
   "metadata": {},
   "outputs": [
    {
     "name": "stdout",
     "output_type": "stream",
     "text": [
      "Root mean squared error on test set: 348.3322480387723\n",
      "Root mean squared error on test set: 324.45099574257125\n"
     ]
    }
   ],
   "source": [
    "print('Root mean squared error on test set: {}'.format(np.sqrt(mean_squared_error(GBR.predict(X_test), y_test))))\n",
    "print('Root mean squared error on test set: {}'.format(np.sqrt(mean_squared_error(GBR.predict(X_train), y_train))))"
   ]
  },
  {
   "cell_type": "markdown",
   "metadata": {},
   "source": [
    "### 5-fold CV"
   ]
  },
  {
   "cell_type": "code",
   "execution_count": 36,
   "metadata": {
    "collapsed": true
   },
   "outputs": [],
   "source": [
    "cv_scores = cross_val_score(GradientBoostingRegressor(), X, y, cv = 5, scoring = 'neg_mean_squared_error')"
   ]
  },
  {
   "cell_type": "code",
   "execution_count": 43,
   "metadata": {},
   "outputs": [
    {
     "name": "stdout",
     "output_type": "stream",
     "text": [
      "Cross_val_scores: [ 343.92343011  375.77368376  367.74449734  380.20638674  333.98504752]\n",
      "Mean score: 360.32660909466824\n"
     ]
    }
   ],
   "source": [
    "scores = np.sqrt(-cv_scores)\n",
    "print('Cross_val_scores: {}'.format(scores))\n",
    "print('Mean score: {}'.format(np.mean(scores)))"
   ]
  },
  {
   "cell_type": "markdown",
   "metadata": {},
   "source": [
    "RMSE is 6 minutes using default parameters and 5-fold CV.\n",
    "\n",
    "Next use grid search to optimize."
   ]
  },
  {
   "cell_type": "markdown",
   "metadata": {},
   "source": [
    "### Grid search"
   ]
  },
  {
   "cell_type": "code",
   "execution_count": 56,
   "metadata": {
    "collapsed": true
   },
   "outputs": [],
   "source": [
    "param_list = params = {'n_estimators' : np.arange(100, 200, 20), 'max_depth': np.arange(4, 8, 1), 'max_features': np.arange(6, 14, 1), 'learning_rate' : [0.10, 0.20, 0.30, 0.4]}\n",
    "gs_cv = GridSearchCV(GradientBoostingRegressor(), param_list, cv=5, scoring='neg_mean_squared_error', )\n",
    "search_results = gs_cv.fit(X, y)"
   ]
  },
  {
   "cell_type": "code",
   "execution_count": 57,
   "metadata": {},
   "outputs": [
    {
     "data": {
      "text/plain": [
       "337.72863317094027"
      ]
     },
     "execution_count": 57,
     "metadata": {},
     "output_type": "execute_result"
    }
   ],
   "source": [
    "np.sqrt(-search_results.best_score_)"
   ]
  },
  {
   "cell_type": "code",
   "execution_count": 58,
   "metadata": {},
   "outputs": [
    {
     "data": {
      "text/plain": [
       "{'learning_rate': 0.1, 'max_depth': 7, 'max_features': 10, 'n_estimators': 180}"
      ]
     },
     "execution_count": 58,
     "metadata": {},
     "output_type": "execute_result"
    }
   ],
   "source": [
    "search_results.best_params_"
   ]
  },
  {
   "cell_type": "markdown",
   "metadata": {},
   "source": [
    "I still get a pretty large error. To improve we probably need a larger training set. This grid search took about 30 mins, so we need XGBoost to use more training data."
   ]
  }
 ],
 "metadata": {
  "kernelspec": {
   "display_name": "Python 3",
   "language": "python",
   "name": "python3"
  },
  "language_info": {
   "codemirror_mode": {
    "name": "ipython",
    "version": 3
   },
   "file_extension": ".py",
   "mimetype": "text/x-python",
   "name": "python",
   "nbconvert_exporter": "python",
   "pygments_lexer": "ipython3",
   "version": "3.5.1"
  }
 },
 "nbformat": 4,
 "nbformat_minor": 2
}
